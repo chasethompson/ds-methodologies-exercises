{
 "cells": [
  {
   "cell_type": "markdown",
   "metadata": {},
   "source": [
    "# K Nearest Neighbors\n",
    "\n",
    "Make predictions based off of the closest observations.\n",
    "\n",
    "Pros:\n",
    "    \n",
    "- Fast to train\n",
    "- Intuitive\n",
    "- Can pick up on arbitary patterns (unlike logit or dtress)\n",
    "- One assumption: closer points are more similar\n",
    "    \n",
    "Cons:\n",
    "    \n",
    "- `k` is unknown\n",
    "- Model parameter is the entire training dataset\n",
    "- Prediction can be expensive(lazy)\n",
    "- Because distance is used, scaling is important\n",
    "\n",
    "### Plan\n",
    "\n",
    "1. Demo KNN in a single dimension\n",
    "1. Demo in 2 dimensions\n",
    "1. See the need for scaling\n",
    "1. Compare model performace on unscaled vs scaled data\n",
    "1. How to choose `k`? Visualize model performance"
   ]
  },
  {
   "cell_type": "code",
   "execution_count": null,
   "metadata": {},
   "outputs": [],
   "source": []
  }
 ],
 "metadata": {
  "kernelspec": {
   "display_name": "Python 3",
   "language": "python",
   "name": "python3"
  },
  "language_info": {
   "codemirror_mode": {
    "name": "ipython",
    "version": 3
   },
   "file_extension": ".py",
   "mimetype": "text/x-python",
   "name": "python",
   "nbconvert_exporter": "python",
   "pygments_lexer": "ipython3",
   "version": "3.7.4"
  }
 },
 "nbformat": 4,
 "nbformat_minor": 2
}
