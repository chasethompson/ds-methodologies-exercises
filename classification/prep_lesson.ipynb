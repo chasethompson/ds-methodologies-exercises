{
 "cells": [
  {
   "cell_type": "code",
   "execution_count": 3,
   "metadata": {},
   "outputs": [],
   "source": [
    "import pandas as pd\n",
    "import numpy as np\n",
    "import sklearn.impute\n",
    "import sklearn.model_selection\n",
    "import sklearn.preprocessing\n",
    "\n",
    "import acquire"
   ]
  },
  {
   "cell_type": "code",
   "execution_count": null,
   "metadata": {},
   "outputs": [],
   "source": [
    "df = acquire.get_titanic_data()\n",
    "print('%d rows and %d columns' % df.shape)\n",
    "df.head()"
   ]
  },
  {
   "cell_type": "markdown",
   "metadata": {},
   "source": [
    "- are class and pclass the same?\n",
    "- are embarked and embarked_town the same?\n",
    "- are the 1s and 0s in survived booleans? alone?\n",
    "- dataframe index vs passenger_id?\n",
    "- what does the distribution of fare look like?\n",
    "- In deck, is None null? missing?\n",
    "\n",
    "These are questions we'll save for exploration\n",
    "\n",
    "- what's the relationship between sibsp and alone?\n",
    "- what's the relationship between survived and alone?"
   ]
  },
  {
   "cell_type": "code",
   "execution_count": null,
   "metadata": {},
   "outputs": [],
   "source": [
    "df.isna()"
   ]
  },
  {
   "cell_type": "code",
   "execution_count": null,
   "metadata": {},
   "outputs": [],
   "source": [
    "df.isna().sum()"
   ]
  },
  {
   "cell_type": "code",
   "execution_count": null,
   "metadata": {},
   "outputs": [],
   "source": [
    "df.isna().mean()"
   ]
  },
  {
   "cell_type": "code",
   "execution_count": null,
   "metadata": {},
   "outputs": [],
   "source": [
    "# drop deck with almost 80% not there\n",
    "\n",
    "df = df.drop(columns='deck')"
   ]
  },
  {
   "cell_type": "code",
   "execution_count": null,
   "metadata": {},
   "outputs": [],
   "source": [
    "# check on class and pclass\n",
    "\n",
    "pd.crosstab(df.pclass, df['class'])"
   ]
  },
  {
   "cell_type": "code",
   "execution_count": null,
   "metadata": {},
   "outputs": [],
   "source": [
    "# takeaway let's just use one since they are the same thing\n",
    "# let's keep the numbers\n",
    "\n",
    "df = df.drop(columns='class')"
   ]
  },
  {
   "cell_type": "code",
   "execution_count": null,
   "metadata": {},
   "outputs": [],
   "source": [
    "df"
   ]
  },
  {
   "cell_type": "code",
   "execution_count": null,
   "metadata": {},
   "outputs": [],
   "source": [
    "pd.crosstab(df.embark_town, df.embarked)"
   ]
  },
  {
   "cell_type": "code",
   "execution_count": null,
   "metadata": {},
   "outputs": [],
   "source": [
    "df = df.drop(columns='embarked')"
   ]
  },
  {
   "cell_type": "code",
   "execution_count": null,
   "metadata": {},
   "outputs": [],
   "source": [
    "df.head()"
   ]
  },
  {
   "cell_type": "markdown",
   "metadata": {},
   "source": [
    "Remaining data issue:\n",
    "\n",
    "- age has some missing values\n",
    "- pclass is class encoded\n",
    "- embark_town has a couple of missing values\n",
    "- embark_town is a string, how do we represent this?"
   ]
  },
  {
   "cell_type": "code",
   "execution_count": null,
   "metadata": {},
   "outputs": [],
   "source": [
    "train, test = sklearn.model_selection.train_test_split(df, random_state=123, train_size=.8)"
   ]
  },
  {
   "cell_type": "code",
   "execution_count": null,
   "metadata": {},
   "outputs": [],
   "source": [
    "train.head()"
   ]
  },
  {
   "cell_type": "code",
   "execution_count": null,
   "metadata": {},
   "outputs": [],
   "source": [
    "# just dropping 148 rows on a data set this size might be problematic at this point\n",
    "\n",
    "train.age.isna().sum()"
   ]
  },
  {
   "cell_type": "markdown",
   "metadata": {},
   "source": [
    "**impute** - to fill in missing values\n",
    "\n",
    "Stratgies for imputing:\n",
    "\n",
    "- fill with 0\n",
    "- fill with the average\n",
    "- fill with the median\n",
    "- fill with subgroup mean\n",
    "    - fill with the average or median or whatever by another column\n",
    "- build a model to predict missing values"
   ]
  },
  {
   "cell_type": "code",
   "execution_count": null,
   "metadata": {},
   "outputs": [],
   "source": [
    "# How many vlaues are in each subgroup?\n",
    "\n",
    "train.groupby(['pclass', 'sex', 'embark_town']).size()"
   ]
  },
  {
   "cell_type": "code",
   "execution_count": null,
   "metadata": {},
   "outputs": [],
   "source": [
    "# applying a custom aggregation function to find missing values in the subgroups\n",
    "\n",
    "train.groupby(['pclass', 'sex', 'embark_town']).agg(lambda s: s.isna().sum())"
   ]
  },
  {
   "cell_type": "code",
   "execution_count": null,
   "metadata": {},
   "outputs": [],
   "source": [
    "# fill with 0\n",
    "\n",
    "# train.age.fillna(0)"
   ]
  },
  {
   "cell_type": "markdown",
   "metadata": {},
   "source": [
    "for filling with overall average, there's two steps:\n",
    "\n",
    "1. Find the average (from the training data)\n",
    "1. Fill the missing values in train and test\n",
    "\n",
    "Two ways to make the happen:\n",
    "\n",
    "1. \"manually\" with pandas\n",
    "1. scikit-learn"
   ]
  },
  {
   "cell_type": "code",
   "execution_count": null,
   "metadata": {},
   "outputs": [],
   "source": [
    "# manually with pandas\n",
    "\n",
    "# avg_age = train.age.mean()\n",
    "# train.age = train.age.fillna(avg_age)\n",
    "# test.age = test.age.fillna(avg_age)"
   ]
  },
  {
   "cell_type": "code",
   "execution_count": null,
   "metadata": {},
   "outputs": [],
   "source": [
    "# This is the model when using sklearn\n",
    "\n",
    "# 1. make the thing\n",
    "imputer = sklearn.impute.SimpleImputer(strategy='mean')\n",
    "\n",
    "# 2. fit the thing\n",
    "imputer.fit(train[['age']])\n",
    "\n",
    "# 3. use the thing\n",
    "train.age = imputer.transform(train[['age']])\n",
    "test.age = imputer.transform(test[['age']])"
   ]
  },
  {
   "cell_type": "code",
   "execution_count": null,
   "metadata": {},
   "outputs": [],
   "source": [
    "train.embark_town.isna().sum()"
   ]
  },
  {
   "cell_type": "code",
   "execution_count": null,
   "metadata": {},
   "outputs": [],
   "source": [
    "train.embark_town.value_counts()"
   ]
  },
  {
   "cell_type": "code",
   "execution_count": null,
   "metadata": {},
   "outputs": [],
   "source": [
    "train.embark_town = train.embark_town.fillna('Southampton')\n",
    "test.embark_town = test.embark_town.fillna('Southampton')"
   ]
  },
  {
   "cell_type": "markdown",
   "metadata": {},
   "source": [
    "**encoding** - turning a string into a number\n",
    "\n",
    "two strategies:\n",
    "    \n",
    "- associate each unique value with a number -- label encoding\n",
    "- one-hot encoding: turn each unique value into a sperate column with either 1 or 0\n",
    "    - curse of dimensionality -- new column per unique value could be problematic\n",
    "\n",
    "When to use one or the other?\n",
    "\n",
    "- use the label encoder when the categories have an inherit order\n",
    "- use one-hot encoding when there is no order"
   ]
  },
  {
   "cell_type": "code",
   "execution_count": null,
   "metadata": {},
   "outputs": [],
   "source": [
    "# make the thing\n",
    "encoder = sklearn.preprocessing.OneHotEncoder()\n",
    "\n",
    "# fit the thing\n",
    "encoder.fit(train[['embark_town']])\n",
    "\n",
    "#transform the thing\n",
    "# .todense to convert from sparse matrix to plain old 2d numpy\n",
    "m = encoder.transform(train[['embark_town']]).todense()\n",
    "m"
   ]
  },
  {
   "cell_type": "code",
   "execution_count": null,
   "metadata": {},
   "outputs": [],
   "source": [
    "encoder.categories_"
   ]
  },
  {
   "cell_type": "code",
   "execution_count": null,
   "metadata": {},
   "outputs": [],
   "source": [
    "pd.concat([\n",
    "    train.embark_town,\n",
    "    pd.DataFrame(m, columns=encoder.categories_[0], index=train.index)\n",
    "    \n",
    "], axis=1)"
   ]
  },
  {
   "cell_type": "code",
   "execution_count": null,
   "metadata": {},
   "outputs": [],
   "source": [
    "# there will only be a single 1 in all the produced columns\n",
    "\n",
    "(pd.DataFrame(m, columns=encoder.categories_[0]).sum(axis=1) == 1). all()"
   ]
  },
  {
   "cell_type": "code",
   "execution_count": null,
   "metadata": {},
   "outputs": [],
   "source": [
    "# bringing it all together, we'll one-hot encode embark_town,\n",
    "# and then add those one-hot encoded columns back to our training\n",
    "# and test dataframes\n",
    "\n",
    "# make the thing\n",
    "encoder = sklearn.preprocessing.OneHotEncoder()\n",
    "\n",
    "# fit the thing\n",
    "encoder.fit(train[['embark_town']])\n",
    "\n",
    "cols = ['embark_town_' + c for c in encoder.categories_[0]]\n",
    "\n",
    "#transform the thing\n",
    "# .todense to convert from sparse matrix to plain old 2d numpy\n",
    "m = encoder.transform(train[['embark_town']]).todense()\n",
    "\n",
    "train = pd.concat([\n",
    "    train,\n",
    "    pd.DataFrame(m, columns=cols, index=train.index)\n",
    "], axis=1).drop(columns='embark_town')\n",
    "\n",
    "m = encoder.transform(test[['embark_town']]).todense()\n",
    "\n",
    "test = pd.concat([\n",
    "    test,\n",
    "    pd.DataFrame(m, columns=cols, index=test.index)\n",
    "], axis=1).drop(columns='embark_town')"
   ]
  },
  {
   "cell_type": "code",
   "execution_count": null,
   "metadata": {},
   "outputs": [],
   "source": [
    "train.head()"
   ]
  },
  {
   "cell_type": "code",
   "execution_count": null,
   "metadata": {},
   "outputs": [],
   "source": [
    "def drop_columns(df):\n",
    "    return df.drop(columns=[\n",
    "        'deck',  # too many missing values\n",
    "        'class', # same as pclass\n",
    "        'embarked', # same as embarked_town\n",
    "    ])\n",
    "\n",
    "def impute_age(train, test):\n",
    "    imputer = sklearn.impute.SimpleImputer(strategy='mean')\n",
    "    imputer.fit(train[['age']])\n",
    "    train.age = imputer.transform(train[['age']])\n",
    "    test.age = imputer.transform(test[['age']])\n",
    "    return train, test\n",
    "\n",
    "def impute_embark_town(train, test):\n",
    "    train.embark_town = train.embark_town.fillna('Southampton')\n",
    "    test.embark_town = test.embark_town.fillna('Southampton')\n",
    "    return train, test\n",
    "\n",
    "def encode_embark_town(train, test):\n",
    "    encoder = sklearn.preprocessing.OneHotEncoder()\n",
    "    encoder.fit(train[['embark_town']])\n",
    "    # nice new column names\n",
    "    cols = ['embark_town_' + c for c in encoder.categories_[0]]\n",
    "    m = encoder.transform(train[['embark_town']]).todense()\n",
    "\n",
    "    train = pd.concat([\n",
    "        train,\n",
    "        pd.DataFrame(m, columns=cols, index=train.index)\n",
    "    ], axis=1).drop(columns='embark_town')\n",
    "\n",
    "    m = encoder.transform(test[['embark_town']]).todense()\n",
    "\n",
    "    test = pd.concat([\n",
    "        test,\n",
    "        pd.DataFrame(m, columns=cols, index=test.index)\n",
    "    ], axis=1).drop(columns='embark_town')\n",
    "    \n",
    "    return train, test\n",
    "\n",
    "\n",
    "def prep_titanic_data(df):\n",
    "    df = drop_columns(df)\n",
    "    train, test = sklearn.model_selection.train_test_split(df, train_size=.8, random_state=123)\n",
    "    train, test = impute_age(train, test)\n",
    "    train, test = impute_embark_town(train, test)\n",
    "    train, test = encode_embark_town(train, test)\n",
    "    \n",
    "    return train, test"
   ]
  },
  {
   "cell_type": "code",
   "execution_count": null,
   "metadata": {},
   "outputs": [],
   "source": [
    "df = acquire.get_titanic_data()\n",
    "\n",
    "train, test = prep_titanic_data(df)"
   ]
  },
  {
   "cell_type": "code",
   "execution_count": null,
   "metadata": {},
   "outputs": [],
   "source": [
    "train.head()"
   ]
  },
  {
   "cell_type": "code",
   "execution_count": null,
   "metadata": {},
   "outputs": [],
   "source": []
  }
 ],
 "metadata": {
  "kernelspec": {
   "display_name": "Python 3",
   "language": "python",
   "name": "python3"
  },
  "language_info": {
   "codemirror_mode": {
    "name": "ipython",
    "version": 3
   },
   "file_extension": ".py",
   "mimetype": "text/x-python",
   "name": "python",
   "nbconvert_exporter": "python",
   "pygments_lexer": "ipython3",
   "version": "3.7.4"
  }
 },
 "nbformat": 4,
 "nbformat_minor": 2
}
