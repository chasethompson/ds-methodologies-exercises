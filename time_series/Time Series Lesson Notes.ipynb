{
 "cells": [
  {
   "cell_type": "code",
   "execution_count": 1,
   "metadata": {},
   "outputs": [],
   "source": [
    "import pandas as pd\n",
    "import numpy as np\n",
    "\n",
    "import requests\n",
    "\n",
    "import acquire\n",
    "import seaborn as sns\n",
    "import matplotlib.pyplot as plt\n",
    "\n",
    "from datetime import timedelta, datetime"
   ]
  },
  {
   "cell_type": "code",
   "execution_count": null,
   "metadata": {},
   "outputs": [],
   "source": [
    "base_url = 'https://python.zach.lol'\n",
    "response = requests.get(base_url)\n",
    "response.json()"
   ]
  },
  {
   "cell_type": "code",
   "execution_count": null,
   "metadata": {},
   "outputs": [],
   "source": [
    "response = requests.get(base_url + '/documentation')\n",
    "print(response.json()['payload'])"
   ]
  },
  {
   "cell_type": "code",
   "execution_count": null,
   "metadata": {},
   "outputs": [],
   "source": [
    "base_url = \"https://python.zach.lol/api/v1\""
   ]
  },
  {
   "cell_type": "code",
   "execution_count": null,
   "metadata": {
    "scrolled": true
   },
   "outputs": [],
   "source": [
    "response = requests.get(base_url + \"/stores\")\n",
    "response.json()"
   ]
  },
  {
   "cell_type": "code",
   "execution_count": null,
   "metadata": {
    "scrolled": true
   },
   "outputs": [],
   "source": [
    "response = requests.get('https://python.zach.lol/api/v1/items')\n",
    "data = response.json()\n",
    "data"
   ]
  },
  {
   "cell_type": "code",
   "execution_count": null,
   "metadata": {},
   "outputs": [],
   "source": [
    "# Data is just a dictionary in this case\n",
    "data.keys()"
   ]
  },
  {
   "cell_type": "code",
   "execution_count": null,
   "metadata": {},
   "outputs": [],
   "source": [
    "data[\"payload\"].keys()"
   ]
  },
  {
   "cell_type": "code",
   "execution_count": null,
   "metadata": {},
   "outputs": [],
   "source": [
    "first_page_of_items = data['payload']['items']"
   ]
  },
  {
   "cell_type": "code",
   "execution_count": null,
   "metadata": {},
   "outputs": [],
   "source": [
    "url_for_second_page = data[\"payload\"][\"next_page\"]\n",
    "response = requests.get(\"https://python.zach.lol\" + url_for_second_page)\n",
    "second_page_of_items = data[\"payload\"][\"items\"]"
   ]
  },
  {
   "cell_type": "code",
   "execution_count": null,
   "metadata": {},
   "outputs": [],
   "source": [
    "url_for_third_page = data[\"payload\"][\"next_page\"]\n",
    "response = requests.get(\"https://python.zach.lol\" + url_for_third_page)\n",
    "third_page_of_items = data[\"payload\"][\"items\"]"
   ]
  },
  {
   "cell_type": "code",
   "execution_count": null,
   "metadata": {},
   "outputs": [],
   "source": [
    "items = []\n",
    "items = first_page_of_items + second_page_of_items + third_page_of_items\n",
    "items = pd.DataFrame(items)"
   ]
  },
  {
   "cell_type": "code",
   "execution_count": null,
   "metadata": {
    "scrolled": true
   },
   "outputs": [],
   "source": [
    "items.head()"
   ]
  },
  {
   "cell_type": "code",
   "execution_count": null,
   "metadata": {},
   "outputs": [],
   "source": [
    "response = requests.get('https://python.zach.lol/api/v1/stores')\n",
    "data = response.json()\n",
    "data"
   ]
  },
  {
   "cell_type": "code",
   "execution_count": null,
   "metadata": {},
   "outputs": [],
   "source": [
    "data.keys()"
   ]
  },
  {
   "cell_type": "code",
   "execution_count": null,
   "metadata": {},
   "outputs": [],
   "source": [
    "data[\"payload\"].keys()"
   ]
  },
  {
   "cell_type": "code",
   "execution_count": null,
   "metadata": {},
   "outputs": [],
   "source": [
    "stores = data['payload']['stores']"
   ]
  },
  {
   "cell_type": "code",
   "execution_count": null,
   "metadata": {},
   "outputs": [],
   "source": [
    "stores"
   ]
  },
  {
   "cell_type": "code",
   "execution_count": null,
   "metadata": {},
   "outputs": [],
   "source": [
    "stores = pd.DataFrame(stores)"
   ]
  },
  {
   "cell_type": "code",
   "execution_count": null,
   "metadata": {},
   "outputs": [],
   "source": [
    "stores"
   ]
  },
  {
   "cell_type": "code",
   "execution_count": null,
   "metadata": {},
   "outputs": [],
   "source": [
    "base_url = \"https://python.zach.lol/api/v1\"\n",
    "response = requests.get(base_url + \"/stores\")\n",
    "stores = response.json()\n",
    "stores"
   ]
  },
  {
   "cell_type": "code",
   "execution_count": null,
   "metadata": {},
   "outputs": [],
   "source": [
    "stores = pd.DataFrame(stores)"
   ]
  },
  {
   "cell_type": "code",
   "execution_count": null,
   "metadata": {
    "scrolled": true
   },
   "outputs": [],
   "source": [
    "stores.head"
   ]
  },
  {
   "cell_type": "code",
   "execution_count": null,
   "metadata": {},
   "outputs": [],
   "source": [
    "response = requests.get('https://python.zach.lol/api/v1/sales')\n",
    "data = response.json()\n",
    "data"
   ]
  },
  {
   "cell_type": "code",
   "execution_count": null,
   "metadata": {},
   "outputs": [],
   "source": [
    "data.keys()"
   ]
  },
  {
   "cell_type": "code",
   "execution_count": null,
   "metadata": {},
   "outputs": [],
   "source": [
    "data['payload'].keys()"
   ]
  },
  {
   "cell_type": "code",
   "execution_count": null,
   "metadata": {},
   "outputs": [],
   "source": [
    "sales_page_1 = data['payload']['sales']\n",
    "sales_page_1"
   ]
  },
  {
   "cell_type": "code",
   "execution_count": null,
   "metadata": {},
   "outputs": [],
   "source": [
    "sales_page_two = data[\"payload\"][\"next_page\"]\n",
    "response = requests.get(\"https://python.zach.lol\" + sales_page_two)\n",
    "page_two_sales = data[\"payload\"][\"sales\"]\n",
    "page_two_sales"
   ]
  },
  {
   "cell_type": "code",
   "execution_count": null,
   "metadata": {},
   "outputs": [],
   "source": []
  },
  {
   "cell_type": "code",
   "execution_count": null,
   "metadata": {},
   "outputs": [],
   "source": [
    "def get_sales():\n",
    "    total_sales = []\n",
    "    base_url = \"https://python.zach.lol/api/v1\"\n",
    "    response = requests.get(base_url + \"/sales\")\n",
    "    data = response.json()\n",
    "    sales_url = data['payload']['sales']\n",
    "    for i in sales\n",
    "    \n",
    "sales_page_1 = data['payload']['sales']\n",
    "\n",
    "first_page_of_items = data['payload']['items']\n",
    "\n",
    "url_for_second_page = data[\"payload\"][\"next_page\"]\n",
    "response = requests.get(\"https://python.zach.lol\" + url_for_second_page)\n",
    "second_page_of_items = data[\"payload\"][\"items\"]\n",
    "\n",
    "url_for_third_page = data[\"payload\"][\"next_page\"]\n",
    "response = requests.get(\"https://python.zach.lol\" + url_for_third_page)\n",
    "third_page_of_items = data[\"payload\"][\"items\"]\n",
    "\n",
    "items = []\n",
    "items = first_page_of_items + second_page_of_items + third_page_of_items\n",
    "items = pd.DataFrame(items)"
   ]
  },
  {
   "cell_type": "code",
   "execution_count": null,
   "metadata": {},
   "outputs": [],
   "source": [
    "sales = []\n",
    "sales = sales_page_1 + sales_page_two\n",
    "sales = pd.DataFrame(sales)"
   ]
  },
  {
   "cell_type": "code",
   "execution_count": null,
   "metadata": {},
   "outputs": [],
   "source": [
    "# def get_sales():\n",
    "#     base_url = \"https://python.zach.lol/api/v1\"\n",
    "#     response = requests.get(base_url + '/sales')\n",
    "#     data = response.json()\n",
    "\n",
    "#     first_page_of_sales = data['payload']['sales']\n",
    "    \n",
    "#     n_page = data[\"payload\"][\"next_page\"]\n",
    "#     response\n",
    "\n",
    "url_for_second_page = data[\"payload\"][\"next_page\"]\n",
    "response = requests.get(\"https://python.zach.lol\" + url_for_second_page)\n",
    "second_page_of_sales = data[\"payload\"][\"sales\"]\n",
    "\n",
    "url_for_third_page = data[\"payload\"][\"next_page\"]\n",
    "response = requests.get(\"https://python.zach.lol\" + url_for_third_page)\n",
    "third_page_of_sales = data[\"payload\"][\"sales\"]\n",
    "\n",
    "sales = []\n",
    "sales = first_page_of_sales + second_page_of_sales + third_page_of_sales\n",
    "sales = pd.DataFrame(sales)\n",
    "sales"
   ]
  },
  {
   "cell_type": "code",
   "execution_count": null,
   "metadata": {},
   "outputs": [],
   "source": [
    "first_page_of_sales"
   ]
  },
  {
   "cell_type": "code",
   "execution_count": null,
   "metadata": {},
   "outputs": [],
   "source": [
    "url_for_second_page = data[\"payload\"][\"next_page\"]\n",
    "response = requests.get(\"https://python.zach.lol\" + url_for_second_page)\n",
    "second_page_of_items = data[\"payload\"][\"items\"]"
   ]
  },
  {
   "cell_type": "code",
   "execution_count": null,
   "metadata": {},
   "outputs": [],
   "source": [
    "sales.head()"
   ]
  },
  {
   "cell_type": "code",
   "execution_count": null,
   "metadata": {},
   "outputs": [],
   "source": [
    "\n",
    "#  for cluster in cluster_column.unique():\n",
    "#         ttest, pval = stats.ttest_1samp(df[\"logerror\"][cluster_column == cluster],df[\"logerror\"].mean(),axis=0,nan_policy=\"propagate\")\n",
    "#         ttest_list.append(ttest)\n",
    "#         pval_list.append(pval)\n",
    "#         sig = pval < 0.05\n",
    "#         stat_sig.append(sig)\n",
    "\n",
    "#Discover API url filtered to movies >= 2004 and containing Drama genre_ID: 18\n",
    "base_url = \"https://python.zach.lol/api/v1\"\n",
    "data = requests.get(base_url + '/sales').json()\n",
    "sales = []\n",
    "\n",
    "while data[\"next_page\"]:\n",
    "    data = requests.get(discover_api[\"next_url\"]).json()\n",
    "    sales.extend(data)\n",
    "\n",
    "# discover_api = 'https://api.themoviedb.org/3/discover/movie? \n",
    "# api_key=['my api key']&language=en-US&sort_by=popularity.desc&include_adult=false&include_video=false&primary_release_year=>%3D2004&with_genres=18'\n",
    "\n",
    "# discover_api = requests.get(discover_api).json()\n",
    "# most_popular_films = discover_api[\"results\"]\n",
    "# while discover_api[\"next_url\"]:\n",
    "#     discover_api = requests.get(discover_api[\"next_url\"]).json()\n",
    "#     most_popular_films.extend(discover_api[\"results\"])\n",
    "\n",
    "# #printing movie_id and movie_title by popularity desc\n",
    "# for i, film in enumerate(most_popular_films):\n",
    "#     print(i, film['id'], film['title'"
   ]
  },
  {
   "cell_type": "code",
   "execution_count": null,
   "metadata": {},
   "outputs": [],
   "source": [
    "def get_store_data_from_api():\n",
    "    url = API_BASE + '/stores'\n",
    "    response = requests.get(url)\n",
    "    data = response.json()\n",
    "    return pd.DataFrame(data['payload']['stores'])\n",
    "\n",
    "def get_item_data_from_api():\n",
    "    url = API_BASE + '/items'\n",
    "    response = requests.get(url)\n",
    "    data = response.json()\n",
    "\n",
    "    stores = data['payload']['items']\n",
    "\n",
    "    while data['payload']['next_page'] is not None:\n",
    "        print('Fetching page {} of {}'.format(data['payload']['page'] + 1, data['payload']['max_page']))\n",
    "        url = BASE_URL + data['payload']['next_page']\n",
    "        response = requests.get(url)\n",
    "        data = response.json()\n",
    "        stores += data['payload']['items']\n",
    "\n",
    "    return pd.DataFrame(stores)\n",
    "\n",
    "def get_sale_data_from_api():\n",
    "    url = API_BASE + '/sales'\n",
    "    response = requests.get(url)\n",
    "    data = response.json()\n",
    "\n",
    "    stores = data['payload']['sales']\n",
    "\n",
    "    while data['payload']['next_page'] is not None:\n",
    "        print('Fetching page {} of {}'.format(data['payload']['page'] + 1, data['payload']['max_page']))\n",
    "        url = BASE_URL + data['payload']['next_page']\n",
    "        response = requests.get(url)\n",
    "        data = response.json()\n",
    "        stores += data['payload']['sales']\n",
    "\n",
    "    return pd.DataFrame(stores)"
   ]
  },
  {
   "cell_type": "code",
   "execution_count": null,
   "metadata": {},
   "outputs": [],
   "source": [
    "# Getting stores"
   ]
  },
  {
   "cell_type": "code",
   "execution_count": null,
   "metadata": {},
   "outputs": [],
   "source": [
    "base_url = 'https://python.zach.lol/api/v1'\n",
    "\n",
    "def get_stores():\n",
    "    url = base_url + '/stores'\n",
    "    data = requests.get(url).json()\n",
    "    return pd.DataFrame(data['payload']['stores'])"
   ]
  },
  {
   "cell_type": "code",
   "execution_count": null,
   "metadata": {},
   "outputs": [],
   "source": [
    "stores = get_stores()"
   ]
  },
  {
   "cell_type": "code",
   "execution_count": null,
   "metadata": {},
   "outputs": [],
   "source": [
    "stores.head()"
   ]
  },
  {
   "cell_type": "code",
   "execution_count": null,
   "metadata": {},
   "outputs": [],
   "source": [
    "base_url = 'https://python.zach.lol/api/v1'\n",
    "\n",
    "def get_items():\n",
    "    url = base_url + '/items'\n",
    "    data = requests.get(url).json()\n",
    "    \n",
    "    stores = data['payload']['items']\n",
    "    \n",
    "    while data['payload']['next_page'] is not None:\n",
    "        print(f\"Acquiring page {(data['payload']['page'] + 1)} of {(data['payload']['max_page'])}.\")\n",
    "        url = base_url + data['payload']['next_page']\n",
    "        response = requests.get(url)\n",
    "        data = response.json()\n",
    "        stores += data['payload']['items']\n",
    "    \n",
    "    return pd.DataFrame(stores)\n",
    "    \n",
    "    \n",
    "# def get_item_data_from_api():\n",
    "#     url = API_BASE + '/items'\n",
    "#     data = requests.get(url).json()\n",
    "\n",
    "#     stores = data['payload']['items']\n",
    "\n",
    "#     while data['payload']['next_page'] is not None:\n",
    "#         print('Fetching page {} of {}'.format(data['payload']['page'] + 1, data['payload']['max_page']))\n",
    "#         url = BASE_URL + data['payload']['next_page']\n",
    "#         response = requests.get(url)\n",
    "#         data = response.json()\n",
    "#         stores += data['payload']['items']\n",
    "\n",
    "#     return pd.DataFrame(stores)"
   ]
  },
  {
   "cell_type": "code",
   "execution_count": null,
   "metadata": {},
   "outputs": [],
   "source": [
    "items = get_items()"
   ]
  },
  {
   "cell_type": "code",
   "execution_count": null,
   "metadata": {},
   "outputs": [],
   "source": [
    "def get_stores():\n",
    "    '''\n",
    "    Reads values direct from stores pages on https://python.zach.lol/api/v1 and saves csv file with new data,\n",
    "    basically making a mini-db \n",
    "    args:\n",
    "    None\n",
    "    Returns:\n",
    "    None\n",
    "    '''\n",
    "    url = 'https://python.zach.lol/api/v1/stores'\n",
    "    response = requests.get(url)\n",
    "    page = response.json()['payload']\n",
    "    stores = []\n",
    "    while True:\n",
    "        stores += page['stores']\n",
    "        if page['next_page'] == None:\n",
    "            break\n",
    "        page_url = url + page['next_page']\n",
    "        page = requests.get(page_url).json()['payload']\n",
    "    stores_df = pd.DataFrame(stores)\n",
    "    stores_df.to_csv('stores.csv', index= False)"
   ]
  },
  {
   "cell_type": "code",
   "execution_count": null,
   "metadata": {},
   "outputs": [],
   "source": [
    "get_stores()"
   ]
  },
  {
   "cell_type": "code",
   "execution_count": null,
   "metadata": {},
   "outputs": [],
   "source": [
    "def get_items():\n",
    "    '''\n",
    "    Read values from items pages on https://python.zach.lol/api/v1 and writes a csv file, making\n",
    "    a mini-db of for items\n",
    "    args: None\n",
    "    Returns: None\n",
    "    '''   \n",
    "    base_url = 'https://python.zach.lol'\n",
    "    api_url = base_url + '/api/v1/items'\n",
    "    response = requests.get(api_url)\n",
    "    page = response.json()['payload']\n",
    "    items = []\n",
    "    while True:\n",
    "        items += page['items']\n",
    "        if page['next_page'] == None:\n",
    "            break\n",
    "        page_url = base_url + page['next_page']\n",
    "        response = requests.get(page_url)\n",
    "        page = response.json()['payload']\n",
    "    items_df = pd.DataFrame(items)\n",
    "    items.df.to_csv('items.csv', index= False)"
   ]
  },
  {
   "cell_type": "code",
   "execution_count": null,
   "metadata": {},
   "outputs": [],
   "source": [
    "get_items()"
   ]
  },
  {
   "cell_type": "code",
   "execution_count": null,
   "metadata": {},
   "outputs": [],
   "source": [
    "def refresh_items():\n",
    "    base_url = 'https://python.zach.lol'\n",
    "    api_url = base_url + '/api/v1/items'\n",
    "    response = requests.get(api_url)\n",
    "    page = response.json()['payload']\n",
    "    items = []\n",
    "    while True:\n",
    "        items += page['items']\n",
    "        if page['next_page'] == None:\n",
    "            break\n",
    "        page_url = base_url + page['next_page']\n",
    "        response = requests.get(page_url)\n",
    "        page = response.json()['payload']\n",
    "    items_df = pd.DataFrame(items)\n",
    "    items_df.to_csv('items.csv', index= False)"
   ]
  },
  {
   "cell_type": "code",
   "execution_count": null,
   "metadata": {},
   "outputs": [],
   "source": [
    "refresh_items()"
   ]
  },
  {
   "cell_type": "code",
   "execution_count": null,
   "metadata": {},
   "outputs": [],
   "source": [
    "def get_sales():\n",
    "    '''\n",
    "    Read values from sales pages on https://python.zach.lol/api/v1 and creates a csv file, basically\n",
    "    a mini-db.\n",
    "    arg: None\n",
    "    Returns: None\n",
    "    '''\n",
    "    base_url = 'https://python.zach.lol'\n",
    "    api_url = base_url + '/api/v1/sales'\n",
    "    response = requests.get(api_url)\n",
    "    page = response.json()['payload']\n",
    "\n",
    "    page['next_page'] # url extension for the next page\n",
    "    sales = []\n",
    "\n",
    "    while True:\n",
    "        sales += page['sales']\n",
    "        if page['next_page'] == None:\n",
    "            break\n",
    "        page_url = base_url + page['next_page']\n",
    "        response = requests.get(page_url)\n",
    "        page = response.json()['payload']\n",
    "    sales_df = pd.DataFrame(sales)\n",
    "    sales_df.to_csv('sales.csv', index = False)"
   ]
  },
  {
   "cell_type": "code",
   "execution_count": null,
   "metadata": {},
   "outputs": [],
   "source": [
    "get_sales()"
   ]
  },
  {
   "cell_type": "code",
   "execution_count": null,
   "metadata": {},
   "outputs": [],
   "source": [
    "def get_all_sales_data():\n",
    "    '''\n",
    "    This functions reads all the csvs for items, sales, and stores, then merges them into a single \n",
    "    dataframe.\n",
    "    args: \n",
    "    reads sales, items, and stores csv files and joins information into one data frame\n",
    "    args:\n",
    "    refresh: if True, will pull current data from the original source, else will read from local csv files\n",
    "    returns:\n",
    "    dataframe\n",
    "    '''\n",
    "\n",
    "    stores = get_store_df()\n",
    "    items = get_item_df()\n",
    "    sales = get_sales_df()\n",
    "\n",
    "    sales.rename(columns={'store' : 'store_id', 'item' : 'item_id'}, inplace = True)\n",
    "    df = sales.merge(stores.set_index('store_id'), on = 'store_id')\n",
    "    df = df.merge(items.set_idex('item_id'), on = 'item_id')\n",
    "\n",
    "    return df"
   ]
  },
  {
   "cell_type": "code",
   "execution_count": null,
   "metadata": {},
   "outputs": [],
   "source": [
    "def get_store_df():\n",
    "    store_df = pd.read_csv('stores.csv')\n",
    "    return store_df\n",
    "\n",
    "def get_item_df():\n",
    "    item_df = pd.read_csv('items.csv')\n",
    "    return item_df\n",
    "\n",
    "def get_sales_df():\n",
    "    sales_df = pd.read_csv('sales.csv')\n",
    "    return sales_df\n",
    "\n",
    "def get_all_sales_data():\n",
    "    '''\n",
    "    This functions reads all the csvs for items, sales, and stores, then merges them into a single \n",
    "    dataframe.\n",
    "    args: \n",
    "    reads sales, items, and stores csv files and joins information into one data frame\n",
    "    args:\n",
    "    refresh: if True, will pull current data from the original source, else will read from local csv files\n",
    "    returns:\n",
    "    dataframe\n",
    "    '''\n",
    "\n",
    "    stores = get_store_df()\n",
    "    items = get_item_df()\n",
    "    sales = get_sales_df()\n",
    "\n",
    "    sales.rename(columns={'store' : 'store_id', 'item' : 'item_id'}, inplace = True)\n",
    "    df = sales.merge(stores.set_index('store_id'), on = 'store_id')\n",
    "    df = df.merge(items.set_index('item_id'), on = 'item_id')\n",
    "\n",
    "    return df"
   ]
  },
  {
   "cell_type": "code",
   "execution_count": null,
   "metadata": {},
   "outputs": [],
   "source": [
    "df = acquire.get_store_data()"
   ]
  },
  {
   "cell_type": "code",
   "execution_count": null,
   "metadata": {},
   "outputs": [],
   "source": [
    "df.head()"
   ]
  },
  {
   "cell_type": "code",
   "execution_count": null,
   "metadata": {},
   "outputs": [],
   "source": [
    "df.shape"
   ]
  },
  {
   "cell_type": "code",
   "execution_count": null,
   "metadata": {},
   "outputs": [],
   "source": [
    "df.isnull().sum()"
   ]
  },
  {
   "cell_type": "code",
   "execution_count": null,
   "metadata": {},
   "outputs": [],
   "source": [
    "df.shape"
   ]
  },
  {
   "cell_type": "code",
   "execution_count": null,
   "metadata": {},
   "outputs": [],
   "source": [
    "df.store_id.unique()"
   ]
  },
  {
   "cell_type": "code",
   "execution_count": null,
   "metadata": {},
   "outputs": [],
   "source": [
    "df.item_id.unique()"
   ]
  },
  {
   "cell_type": "code",
   "execution_count": null,
   "metadata": {},
   "outputs": [],
   "source": [
    "df.item_price.unique()"
   ]
  },
  {
   "cell_type": "code",
   "execution_count": null,
   "metadata": {},
   "outputs": [],
   "source": [
    "df.sale_date.unique().shape"
   ]
  },
  {
   "cell_type": "code",
   "execution_count": null,
   "metadata": {
    "scrolled": true
   },
   "outputs": [],
   "source": [
    "df.sale_amount.min(), df.sale_amount.max()"
   ]
  },
  {
   "cell_type": "code",
   "execution_count": null,
   "metadata": {},
   "outputs": [],
   "source": [
    "df.info()"
   ]
  },
  {
   "cell_type": "code",
   "execution_count": null,
   "metadata": {},
   "outputs": [],
   "source": [
    "df.dtypes"
   ]
  },
  {
   "cell_type": "code",
   "execution_count": null,
   "metadata": {},
   "outputs": [],
   "source": [
    "df.shape[0], df.sale_id.nunique()"
   ]
  },
  {
   "cell_type": "code",
   "execution_count": null,
   "metadata": {},
   "outputs": [],
   "source": [
    "df = df.sort_values(\"sale_date\").set_index(\"sale_date\")"
   ]
  },
  {
   "cell_type": "code",
   "execution_count": null,
   "metadata": {},
   "outputs": [],
   "source": [
    "df.head()"
   ]
  },
  {
   "cell_type": "code",
   "execution_count": null,
   "metadata": {},
   "outputs": [],
   "source": [
    "plt.figure(figsize=(16, 9))\n",
    "by_date = df.groupby(['sale_date'])['sale_amount'].sum().reset_index()\n",
    "by_date.plot(x='sale_date', y='sale_amount')"
   ]
  },
  {
   "cell_type": "code",
   "execution_count": null,
   "metadata": {},
   "outputs": [],
   "source": [
    "first_sale_per_storeitem = df.reset_index().groupby(['store_id','item_id']).sale_date.min()\n",
    "first_sale_per_storeitem[0:5]"
   ]
  },
  {
   "cell_type": "code",
   "execution_count": null,
   "metadata": {},
   "outputs": [],
   "source": [
    "last_sale_per_storeitem = df.reset_index().groupby(['store_id','item_id']).sale_date.max()\n",
    "last_sale_per_storeitem[0:5]"
   ]
  },
  {
   "cell_type": "code",
   "execution_count": null,
   "metadata": {},
   "outputs": [],
   "source": [
    "downsampling_example = df.groupby(\"sale_date\").sale_amount.mean().asfreq(\"12H\")\n",
    "downsampling_example.head()"
   ]
  },
  {
   "cell_type": "code",
   "execution_count": null,
   "metadata": {},
   "outputs": [],
   "source": [
    "downsampling_example.ffill().head()"
   ]
  },
  {
   "cell_type": "code",
   "execution_count": null,
   "metadata": {},
   "outputs": [],
   "source": [
    "print(f\"Number of rows: {df.index.nunique()}\")\n",
    "print(f\"Number of timedeltas of a day {df.index.max() - df.index.min() + timedelta(days=1)}\")"
   ]
  },
  {
   "cell_type": "code",
   "execution_count": null,
   "metadata": {},
   "outputs": [],
   "source": [
    "rolling_example = pd.DataFrame()\n",
    "\n",
    "rolling_example[\"daily_average\"] = df.loc[\"2015\":\"2016\"].groupby(\"sale_date\").sale_amount.mean()\n",
    "rolling_example[\"30_day_avg\"] = rolling_example.daily_average.rolling(30).mean()\n",
    "rolling_example[\"90_day_avg\"] = rolling_example.daily_average.rolling(90).mean()\n",
    "\n",
    "plt.figure(figsize=(16, 9))\n",
    "plt.title(\"Example of Moving Averages\")\n",
    "plt.xlabel(\"Daily Breakdown\")\n",
    "plt.ylabel(\"Average Daily Sales Amount\")\n",
    "\n",
    "# It's useful to lower the alpha/opacity to reduce the noise\n",
    "plt.plot(rolling_example.index, rolling_example.daily_average, alpha=0.1)\n",
    "\n",
    "plt.plot(rolling_example.index, rolling_example[\"30_day_avg\"])\n",
    "plt.plot(rolling_example.index, rolling_example[\"90_day_avg\"])\n",
    "plt.legend(['daily avg', '30 day rolling average','90 day rolling average'], loc='upper left')\n",
    "plt.show()"
   ]
  },
  {
   "cell_type": "code",
   "execution_count": 2,
   "metadata": {},
   "outputs": [],
   "source": [
    "df = acquire.get_store_data()"
   ]
  },
  {
   "cell_type": "code",
   "execution_count": 3,
   "metadata": {},
   "outputs": [
    {
     "data": {
      "text/html": [
       "<div>\n",
       "<style scoped>\n",
       "    .dataframe tbody tr th:only-of-type {\n",
       "        vertical-align: middle;\n",
       "    }\n",
       "\n",
       "    .dataframe tbody tr th {\n",
       "        vertical-align: top;\n",
       "    }\n",
       "\n",
       "    .dataframe thead th {\n",
       "        text-align: right;\n",
       "    }\n",
       "</style>\n",
       "<table border=\"1\" class=\"dataframe\">\n",
       "  <thead>\n",
       "    <tr style=\"text-align: right;\">\n",
       "      <th></th>\n",
       "      <th>sale_amount</th>\n",
       "      <th>sale_id</th>\n",
       "      <th>store_address</th>\n",
       "      <th>store_city</th>\n",
       "      <th>store_id</th>\n",
       "      <th>store_state</th>\n",
       "      <th>store_zipcode</th>\n",
       "      <th>item_brand</th>\n",
       "      <th>item_id</th>\n",
       "      <th>item_name</th>\n",
       "      <th>item_price</th>\n",
       "      <th>item_upc12</th>\n",
       "      <th>item_upc14</th>\n",
       "    </tr>\n",
       "    <tr>\n",
       "      <th>sale_date</th>\n",
       "      <th></th>\n",
       "      <th></th>\n",
       "      <th></th>\n",
       "      <th></th>\n",
       "      <th></th>\n",
       "      <th></th>\n",
       "      <th></th>\n",
       "      <th></th>\n",
       "      <th></th>\n",
       "      <th></th>\n",
       "      <th></th>\n",
       "      <th></th>\n",
       "      <th></th>\n",
       "    </tr>\n",
       "  </thead>\n",
       "  <tbody>\n",
       "    <tr>\n",
       "      <th>2013-01-01 00:00:00+00:00</th>\n",
       "      <td>13.0</td>\n",
       "      <td>1</td>\n",
       "      <td>12125 Alamo Ranch Pkwy</td>\n",
       "      <td>San Antonio</td>\n",
       "      <td>1</td>\n",
       "      <td>TX</td>\n",
       "      <td>78253</td>\n",
       "      <td>Riceland</td>\n",
       "      <td>1</td>\n",
       "      <td>Riceland American Jazmine Rice</td>\n",
       "      <td>0.84</td>\n",
       "      <td>35200264013</td>\n",
       "      <td>35200264013</td>\n",
       "    </tr>\n",
       "    <tr>\n",
       "      <th>2013-01-02 00:00:00+00:00</th>\n",
       "      <td>11.0</td>\n",
       "      <td>2</td>\n",
       "      <td>12125 Alamo Ranch Pkwy</td>\n",
       "      <td>San Antonio</td>\n",
       "      <td>1</td>\n",
       "      <td>TX</td>\n",
       "      <td>78253</td>\n",
       "      <td>Riceland</td>\n",
       "      <td>1</td>\n",
       "      <td>Riceland American Jazmine Rice</td>\n",
       "      <td>0.84</td>\n",
       "      <td>35200264013</td>\n",
       "      <td>35200264013</td>\n",
       "    </tr>\n",
       "    <tr>\n",
       "      <th>2013-01-03 00:00:00+00:00</th>\n",
       "      <td>14.0</td>\n",
       "      <td>3</td>\n",
       "      <td>12125 Alamo Ranch Pkwy</td>\n",
       "      <td>San Antonio</td>\n",
       "      <td>1</td>\n",
       "      <td>TX</td>\n",
       "      <td>78253</td>\n",
       "      <td>Riceland</td>\n",
       "      <td>1</td>\n",
       "      <td>Riceland American Jazmine Rice</td>\n",
       "      <td>0.84</td>\n",
       "      <td>35200264013</td>\n",
       "      <td>35200264013</td>\n",
       "    </tr>\n",
       "    <tr>\n",
       "      <th>2013-01-04 00:00:00+00:00</th>\n",
       "      <td>13.0</td>\n",
       "      <td>4</td>\n",
       "      <td>12125 Alamo Ranch Pkwy</td>\n",
       "      <td>San Antonio</td>\n",
       "      <td>1</td>\n",
       "      <td>TX</td>\n",
       "      <td>78253</td>\n",
       "      <td>Riceland</td>\n",
       "      <td>1</td>\n",
       "      <td>Riceland American Jazmine Rice</td>\n",
       "      <td>0.84</td>\n",
       "      <td>35200264013</td>\n",
       "      <td>35200264013</td>\n",
       "    </tr>\n",
       "    <tr>\n",
       "      <th>2013-01-05 00:00:00+00:00</th>\n",
       "      <td>10.0</td>\n",
       "      <td>5</td>\n",
       "      <td>12125 Alamo Ranch Pkwy</td>\n",
       "      <td>San Antonio</td>\n",
       "      <td>1</td>\n",
       "      <td>TX</td>\n",
       "      <td>78253</td>\n",
       "      <td>Riceland</td>\n",
       "      <td>1</td>\n",
       "      <td>Riceland American Jazmine Rice</td>\n",
       "      <td>0.84</td>\n",
       "      <td>35200264013</td>\n",
       "      <td>35200264013</td>\n",
       "    </tr>\n",
       "  </tbody>\n",
       "</table>\n",
       "</div>"
      ],
      "text/plain": [
       "                           sale_amount  sale_id           store_address  \\\n",
       "sale_date                                                                 \n",
       "2013-01-01 00:00:00+00:00         13.0        1  12125 Alamo Ranch Pkwy   \n",
       "2013-01-02 00:00:00+00:00         11.0        2  12125 Alamo Ranch Pkwy   \n",
       "2013-01-03 00:00:00+00:00         14.0        3  12125 Alamo Ranch Pkwy   \n",
       "2013-01-04 00:00:00+00:00         13.0        4  12125 Alamo Ranch Pkwy   \n",
       "2013-01-05 00:00:00+00:00         10.0        5  12125 Alamo Ranch Pkwy   \n",
       "\n",
       "                            store_city  store_id store_state  store_zipcode  \\\n",
       "sale_date                                                                     \n",
       "2013-01-01 00:00:00+00:00  San Antonio         1          TX          78253   \n",
       "2013-01-02 00:00:00+00:00  San Antonio         1          TX          78253   \n",
       "2013-01-03 00:00:00+00:00  San Antonio         1          TX          78253   \n",
       "2013-01-04 00:00:00+00:00  San Antonio         1          TX          78253   \n",
       "2013-01-05 00:00:00+00:00  San Antonio         1          TX          78253   \n",
       "\n",
       "                          item_brand  item_id                       item_name  \\\n",
       "sale_date                                                                       \n",
       "2013-01-01 00:00:00+00:00   Riceland        1  Riceland American Jazmine Rice   \n",
       "2013-01-02 00:00:00+00:00   Riceland        1  Riceland American Jazmine Rice   \n",
       "2013-01-03 00:00:00+00:00   Riceland        1  Riceland American Jazmine Rice   \n",
       "2013-01-04 00:00:00+00:00   Riceland        1  Riceland American Jazmine Rice   \n",
       "2013-01-05 00:00:00+00:00   Riceland        1  Riceland American Jazmine Rice   \n",
       "\n",
       "                           item_price   item_upc12   item_upc14  \n",
       "sale_date                                                        \n",
       "2013-01-01 00:00:00+00:00        0.84  35200264013  35200264013  \n",
       "2013-01-02 00:00:00+00:00        0.84  35200264013  35200264013  \n",
       "2013-01-03 00:00:00+00:00        0.84  35200264013  35200264013  \n",
       "2013-01-04 00:00:00+00:00        0.84  35200264013  35200264013  \n",
       "2013-01-05 00:00:00+00:00        0.84  35200264013  35200264013  "
      ]
     },
     "execution_count": 3,
     "metadata": {},
     "output_type": "execute_result"
    }
   ],
   "source": [
    "df.head()"
   ]
  },
  {
   "cell_type": "markdown",
   "metadata": {},
   "source": [
    "#### Plot the distribution of sale_amount and item_price."
   ]
  },
  {
   "cell_type": "code",
   "execution_count": 4,
   "metadata": {},
   "outputs": [
    {
     "data": {
      "image/png": "[encoded data removed]",
      "text/plain": [
       "<Figure size 432x432 with 3 Axes>"
      ]
     },
     "metadata": {
      "needs_background": "light"
     },
     "output_type": "display_data"
    }
   ],
   "source": [
    "sns.jointplot(x=\"sale_amount\", y=\"item_price\", data=df);"
   ]
  },
  {
   "cell_type": "markdown",
   "metadata": {},
   "source": [
    "#### Add a 'month' and 'day of week' column to your dataframe, derived from the index using the keywords for those date parts."
   ]
  },
  {
   "cell_type": "code",
   "execution_count": 20,
   "metadata": {},
   "outputs": [],
   "source": [
    "df['day_of_week'] = df.index.weekday"
   ]
  },
  {
   "cell_type": "code",
   "execution_count": 22,
   "metadata": {},
   "outputs": [],
   "source": [
    "df['month'] = df.index.month"
   ]
  },
  {
   "cell_type": "code",
   "execution_count": 24,
   "metadata": {},
   "outputs": [],
   "source": [
    "df['sales_total'] = df.sale_amount * df.item_price"
   ]
  },
  {
   "cell_type": "code",
   "execution_count": 25,
   "metadata": {},
   "outputs": [
    {
     "data": {
      "text/html": [
       "<div>\n",
       "<style scoped>\n",
       "    .dataframe tbody tr th:only-of-type {\n",
       "        vertical-align: middle;\n",
       "    }\n",
       "\n",
       "    .dataframe tbody tr th {\n",
       "        vertical-align: top;\n",
       "    }\n",
       "\n",
       "    .dataframe thead th {\n",
       "        text-align: right;\n",
       "    }\n",
       "</style>\n",
       "<table border=\"1\" class=\"dataframe\">\n",
       "  <thead>\n",
       "    <tr style=\"text-align: right;\">\n",
       "      <th></th>\n",
       "      <th>sale_amount</th>\n",
       "      <th>sale_id</th>\n",
       "      <th>store_address</th>\n",
       "      <th>store_city</th>\n",
       "      <th>store_id</th>\n",
       "      <th>store_state</th>\n",
       "      <th>store_zipcode</th>\n",
       "      <th>item_brand</th>\n",
       "      <th>item_id</th>\n",
       "      <th>item_name</th>\n",
       "      <th>item_price</th>\n",
       "      <th>item_upc12</th>\n",
       "      <th>item_upc14</th>\n",
       "      <th>month</th>\n",
       "      <th>day_of_week</th>\n",
       "      <th>sales_total</th>\n",
       "    </tr>\n",
       "    <tr>\n",
       "      <th>sale_date</th>\n",
       "      <th></th>\n",
       "      <th></th>\n",
       "      <th></th>\n",
       "      <th></th>\n",
       "      <th></th>\n",
       "      <th></th>\n",
       "      <th></th>\n",
       "      <th></th>\n",
       "      <th></th>\n",
       "      <th></th>\n",
       "      <th></th>\n",
       "      <th></th>\n",
       "      <th></th>\n",
       "      <th></th>\n",
       "      <th></th>\n",
       "      <th></th>\n",
       "    </tr>\n",
       "  </thead>\n",
       "  <tbody>\n",
       "    <tr>\n",
       "      <th>2013-01-01 00:00:00+00:00</th>\n",
       "      <td>13.0</td>\n",
       "      <td>1</td>\n",
       "      <td>12125 Alamo Ranch Pkwy</td>\n",
       "      <td>San Antonio</td>\n",
       "      <td>1</td>\n",
       "      <td>TX</td>\n",
       "      <td>78253</td>\n",
       "      <td>Riceland</td>\n",
       "      <td>1</td>\n",
       "      <td>Riceland American Jazmine Rice</td>\n",
       "      <td>0.84</td>\n",
       "      <td>35200264013</td>\n",
       "      <td>35200264013</td>\n",
       "      <td>1</td>\n",
       "      <td>1</td>\n",
       "      <td>10.92</td>\n",
       "    </tr>\n",
       "    <tr>\n",
       "      <th>2013-01-02 00:00:00+00:00</th>\n",
       "      <td>11.0</td>\n",
       "      <td>2</td>\n",
       "      <td>12125 Alamo Ranch Pkwy</td>\n",
       "      <td>San Antonio</td>\n",
       "      <td>1</td>\n",
       "      <td>TX</td>\n",
       "      <td>78253</td>\n",
       "      <td>Riceland</td>\n",
       "      <td>1</td>\n",
       "      <td>Riceland American Jazmine Rice</td>\n",
       "      <td>0.84</td>\n",
       "      <td>35200264013</td>\n",
       "      <td>35200264013</td>\n",
       "      <td>1</td>\n",
       "      <td>2</td>\n",
       "      <td>9.24</td>\n",
       "    </tr>\n",
       "    <tr>\n",
       "      <th>2013-01-03 00:00:00+00:00</th>\n",
       "      <td>14.0</td>\n",
       "      <td>3</td>\n",
       "      <td>12125 Alamo Ranch Pkwy</td>\n",
       "      <td>San Antonio</td>\n",
       "      <td>1</td>\n",
       "      <td>TX</td>\n",
       "      <td>78253</td>\n",
       "      <td>Riceland</td>\n",
       "      <td>1</td>\n",
       "      <td>Riceland American Jazmine Rice</td>\n",
       "      <td>0.84</td>\n",
       "      <td>35200264013</td>\n",
       "      <td>35200264013</td>\n",
       "      <td>1</td>\n",
       "      <td>3</td>\n",
       "      <td>11.76</td>\n",
       "    </tr>\n",
       "    <tr>\n",
       "      <th>2013-01-04 00:00:00+00:00</th>\n",
       "      <td>13.0</td>\n",
       "      <td>4</td>\n",
       "      <td>12125 Alamo Ranch Pkwy</td>\n",
       "      <td>San Antonio</td>\n",
       "      <td>1</td>\n",
       "      <td>TX</td>\n",
       "      <td>78253</td>\n",
       "      <td>Riceland</td>\n",
       "      <td>1</td>\n",
       "      <td>Riceland American Jazmine Rice</td>\n",
       "      <td>0.84</td>\n",
       "      <td>35200264013</td>\n",
       "      <td>35200264013</td>\n",
       "      <td>1</td>\n",
       "      <td>4</td>\n",
       "      <td>10.92</td>\n",
       "    </tr>\n",
       "    <tr>\n",
       "      <th>2013-01-05 00:00:00+00:00</th>\n",
       "      <td>10.0</td>\n",
       "      <td>5</td>\n",
       "      <td>12125 Alamo Ranch Pkwy</td>\n",
       "      <td>San Antonio</td>\n",
       "      <td>1</td>\n",
       "      <td>TX</td>\n",
       "      <td>78253</td>\n",
       "      <td>Riceland</td>\n",
       "      <td>1</td>\n",
       "      <td>Riceland American Jazmine Rice</td>\n",
       "      <td>0.84</td>\n",
       "      <td>35200264013</td>\n",
       "      <td>35200264013</td>\n",
       "      <td>1</td>\n",
       "      <td>5</td>\n",
       "      <td>8.40</td>\n",
       "    </tr>\n",
       "  </tbody>\n",
       "</table>\n",
       "</div>"
      ],
      "text/plain": [
       "                           sale_amount  sale_id           store_address  \\\n",
       "sale_date                                                                 \n",
       "2013-01-01 00:00:00+00:00         13.0        1  12125 Alamo Ranch Pkwy   \n",
       "2013-01-02 00:00:00+00:00         11.0        2  12125 Alamo Ranch Pkwy   \n",
       "2013-01-03 00:00:00+00:00         14.0        3  12125 Alamo Ranch Pkwy   \n",
       "2013-01-04 00:00:00+00:00         13.0        4  12125 Alamo Ranch Pkwy   \n",
       "2013-01-05 00:00:00+00:00         10.0        5  12125 Alamo Ranch Pkwy   \n",
       "\n",
       "                            store_city  store_id store_state  store_zipcode  \\\n",
       "sale_date                                                                     \n",
       "2013-01-01 00:00:00+00:00  San Antonio         1          TX          78253   \n",
       "2013-01-02 00:00:00+00:00  San Antonio         1          TX          78253   \n",
       "2013-01-03 00:00:00+00:00  San Antonio         1          TX          78253   \n",
       "2013-01-04 00:00:00+00:00  San Antonio         1          TX          78253   \n",
       "2013-01-05 00:00:00+00:00  San Antonio         1          TX          78253   \n",
       "\n",
       "                          item_brand  item_id                       item_name  \\\n",
       "sale_date                                                                       \n",
       "2013-01-01 00:00:00+00:00   Riceland        1  Riceland American Jazmine Rice   \n",
       "2013-01-02 00:00:00+00:00   Riceland        1  Riceland American Jazmine Rice   \n",
       "2013-01-03 00:00:00+00:00   Riceland        1  Riceland American Jazmine Rice   \n",
       "2013-01-04 00:00:00+00:00   Riceland        1  Riceland American Jazmine Rice   \n",
       "2013-01-05 00:00:00+00:00   Riceland        1  Riceland American Jazmine Rice   \n",
       "\n",
       "                           item_price   item_upc12   item_upc14  month  \\\n",
       "sale_date                                                                \n",
       "2013-01-01 00:00:00+00:00        0.84  35200264013  35200264013      1   \n",
       "2013-01-02 00:00:00+00:00        0.84  35200264013  35200264013      1   \n",
       "2013-01-03 00:00:00+00:00        0.84  35200264013  35200264013      1   \n",
       "2013-01-04 00:00:00+00:00        0.84  35200264013  35200264013      1   \n",
       "2013-01-05 00:00:00+00:00        0.84  35200264013  35200264013      1   \n",
       "\n",
       "                           day_of_week  sales_total  \n",
       "sale_date                                            \n",
       "2013-01-01 00:00:00+00:00            1        10.92  \n",
       "2013-01-02 00:00:00+00:00            2         9.24  \n",
       "2013-01-03 00:00:00+00:00            3        11.76  \n",
       "2013-01-04 00:00:00+00:00            4        10.92  \n",
       "2013-01-05 00:00:00+00:00            5         8.40  "
      ]
     },
     "execution_count": 25,
     "metadata": {},
     "output_type": "execute_result"
    }
   ],
   "source": [
    "df.head()"
   ]
  },
  {
   "cell_type": "code",
   "execution_count": 26,
   "metadata": {},
   "outputs": [],
   "source": [
    "df[\"diff(1)\"] = df.sale_amount.diff(1)"
   ]
  },
  {
   "cell_type": "code",
   "execution_count": 38,
   "metadata": {
    "scrolled": true
   },
   "outputs": [
    {
     "data": {
      "text/html": [
       "<div>\n",
       "<style scoped>\n",
       "    .dataframe tbody tr th:only-of-type {\n",
       "        vertical-align: middle;\n",
       "    }\n",
       "\n",
       "    .dataframe tbody tr th {\n",
       "        vertical-align: top;\n",
       "    }\n",
       "\n",
       "    .dataframe thead th {\n",
       "        text-align: right;\n",
       "    }\n",
       "</style>\n",
       "<table border=\"1\" class=\"dataframe\">\n",
       "  <thead>\n",
       "    <tr style=\"text-align: right;\">\n",
       "      <th></th>\n",
       "      <th>sale_amount</th>\n",
       "      <th>sale_id</th>\n",
       "      <th>store_address</th>\n",
       "      <th>store_city</th>\n",
       "      <th>store_id</th>\n",
       "      <th>store_state</th>\n",
       "      <th>store_zipcode</th>\n",
       "      <th>item_brand</th>\n",
       "      <th>item_id</th>\n",
       "      <th>item_name</th>\n",
       "      <th>item_price</th>\n",
       "      <th>item_upc12</th>\n",
       "      <th>item_upc14</th>\n",
       "      <th>month</th>\n",
       "      <th>day_of_week</th>\n",
       "      <th>sales_total</th>\n",
       "      <th>diff(1)</th>\n",
       "    </tr>\n",
       "    <tr>\n",
       "      <th>sale_date</th>\n",
       "      <th></th>\n",
       "      <th></th>\n",
       "      <th></th>\n",
       "      <th></th>\n",
       "      <th></th>\n",
       "      <th></th>\n",
       "      <th></th>\n",
       "      <th></th>\n",
       "      <th></th>\n",
       "      <th></th>\n",
       "      <th></th>\n",
       "      <th></th>\n",
       "      <th></th>\n",
       "      <th></th>\n",
       "      <th></th>\n",
       "      <th></th>\n",
       "      <th></th>\n",
       "    </tr>\n",
       "  </thead>\n",
       "  <tbody>\n",
       "    <tr>\n",
       "      <th>2013-01-01 00:00:00+00:00</th>\n",
       "      <td>13</td>\n",
       "      <td>1</td>\n",
       "      <td>12125 Alamo Ranch Pkwy</td>\n",
       "      <td>San Antonio</td>\n",
       "      <td>1</td>\n",
       "      <td>TX</td>\n",
       "      <td>78253</td>\n",
       "      <td>Riceland</td>\n",
       "      <td>1</td>\n",
       "      <td>Riceland American Jazmine Rice</td>\n",
       "      <td>0.84</td>\n",
       "      <td>35200264013</td>\n",
       "      <td>35200264013</td>\n",
       "      <td>1</td>\n",
       "      <td>1</td>\n",
       "      <td>10.92</td>\n",
       "      <td>NaN</td>\n",
       "    </tr>\n",
       "    <tr>\n",
       "      <th>2013-01-02 00:00:00+00:00</th>\n",
       "      <td>11</td>\n",
       "      <td>2</td>\n",
       "      <td>12125 Alamo Ranch Pkwy</td>\n",
       "      <td>San Antonio</td>\n",
       "      <td>1</td>\n",
       "      <td>TX</td>\n",
       "      <td>78253</td>\n",
       "      <td>Riceland</td>\n",
       "      <td>1</td>\n",
       "      <td>Riceland American Jazmine Rice</td>\n",
       "      <td>0.84</td>\n",
       "      <td>35200264013</td>\n",
       "      <td>35200264013</td>\n",
       "      <td>1</td>\n",
       "      <td>2</td>\n",
       "      <td>9.24</td>\n",
       "      <td>-2.0</td>\n",
       "    </tr>\n",
       "    <tr>\n",
       "      <th>2013-01-03 00:00:00+00:00</th>\n",
       "      <td>14</td>\n",
       "      <td>3</td>\n",
       "      <td>12125 Alamo Ranch Pkwy</td>\n",
       "      <td>San Antonio</td>\n",
       "      <td>1</td>\n",
       "      <td>TX</td>\n",
       "      <td>78253</td>\n",
       "      <td>Riceland</td>\n",
       "      <td>1</td>\n",
       "      <td>Riceland American Jazmine Rice</td>\n",
       "      <td>0.84</td>\n",
       "      <td>35200264013</td>\n",
       "      <td>35200264013</td>\n",
       "      <td>1</td>\n",
       "      <td>3</td>\n",
       "      <td>11.76</td>\n",
       "      <td>3.0</td>\n",
       "    </tr>\n",
       "    <tr>\n",
       "      <th>2013-01-04 00:00:00+00:00</th>\n",
       "      <td>13</td>\n",
       "      <td>4</td>\n",
       "      <td>12125 Alamo Ranch Pkwy</td>\n",
       "      <td>San Antonio</td>\n",
       "      <td>1</td>\n",
       "      <td>TX</td>\n",
       "      <td>78253</td>\n",
       "      <td>Riceland</td>\n",
       "      <td>1</td>\n",
       "      <td>Riceland American Jazmine Rice</td>\n",
       "      <td>0.84</td>\n",
       "      <td>35200264013</td>\n",
       "      <td>35200264013</td>\n",
       "      <td>1</td>\n",
       "      <td>4</td>\n",
       "      <td>10.92</td>\n",
       "      <td>-1.0</td>\n",
       "    </tr>\n",
       "    <tr>\n",
       "      <th>2013-01-05 00:00:00+00:00</th>\n",
       "      <td>10</td>\n",
       "      <td>5</td>\n",
       "      <td>12125 Alamo Ranch Pkwy</td>\n",
       "      <td>San Antonio</td>\n",
       "      <td>1</td>\n",
       "      <td>TX</td>\n",
       "      <td>78253</td>\n",
       "      <td>Riceland</td>\n",
       "      <td>1</td>\n",
       "      <td>Riceland American Jazmine Rice</td>\n",
       "      <td>0.84</td>\n",
       "      <td>35200264013</td>\n",
       "      <td>35200264013</td>\n",
       "      <td>1</td>\n",
       "      <td>5</td>\n",
       "      <td>8.40</td>\n",
       "      <td>-3.0</td>\n",
       "    </tr>\n",
       "  </tbody>\n",
       "</table>\n",
       "</div>"
      ],
      "text/plain": [
       "                           sale_amount  sale_id           store_address  \\\n",
       "sale_date                                                                 \n",
       "2013-01-01 00:00:00+00:00           13        1  12125 Alamo Ranch Pkwy   \n",
       "2013-01-02 00:00:00+00:00           11        2  12125 Alamo Ranch Pkwy   \n",
       "2013-01-03 00:00:00+00:00           14        3  12125 Alamo Ranch Pkwy   \n",
       "2013-01-04 00:00:00+00:00           13        4  12125 Alamo Ranch Pkwy   \n",
       "2013-01-05 00:00:00+00:00           10        5  12125 Alamo Ranch Pkwy   \n",
       "\n",
       "                            store_city  store_id store_state  store_zipcode  \\\n",
       "sale_date                                                                     \n",
       "2013-01-01 00:00:00+00:00  San Antonio         1          TX          78253   \n",
       "2013-01-02 00:00:00+00:00  San Antonio         1          TX          78253   \n",
       "2013-01-03 00:00:00+00:00  San Antonio         1          TX          78253   \n",
       "2013-01-04 00:00:00+00:00  San Antonio         1          TX          78253   \n",
       "2013-01-05 00:00:00+00:00  San Antonio         1          TX          78253   \n",
       "\n",
       "                          item_brand  item_id                       item_name  \\\n",
       "sale_date                                                                       \n",
       "2013-01-01 00:00:00+00:00   Riceland        1  Riceland American Jazmine Rice   \n",
       "2013-01-02 00:00:00+00:00   Riceland        1  Riceland American Jazmine Rice   \n",
       "2013-01-03 00:00:00+00:00   Riceland        1  Riceland American Jazmine Rice   \n",
       "2013-01-04 00:00:00+00:00   Riceland        1  Riceland American Jazmine Rice   \n",
       "2013-01-05 00:00:00+00:00   Riceland        1  Riceland American Jazmine Rice   \n",
       "\n",
       "                           item_price   item_upc12   item_upc14  month  \\\n",
       "sale_date                                                                \n",
       "2013-01-01 00:00:00+00:00        0.84  35200264013  35200264013      1   \n",
       "2013-01-02 00:00:00+00:00        0.84  35200264013  35200264013      1   \n",
       "2013-01-03 00:00:00+00:00        0.84  35200264013  35200264013      1   \n",
       "2013-01-04 00:00:00+00:00        0.84  35200264013  35200264013      1   \n",
       "2013-01-05 00:00:00+00:00        0.84  35200264013  35200264013      1   \n",
       "\n",
       "                           day_of_week  sales_total  diff(1)  \n",
       "sale_date                                                     \n",
       "2013-01-01 00:00:00+00:00            1        10.92      NaN  \n",
       "2013-01-02 00:00:00+00:00            2         9.24     -2.0  \n",
       "2013-01-03 00:00:00+00:00            3        11.76      3.0  \n",
       "2013-01-04 00:00:00+00:00            4        10.92     -1.0  \n",
       "2013-01-05 00:00:00+00:00            5         8.40     -3.0  "
      ]
     },
     "execution_count": 38,
     "metadata": {},
     "output_type": "execute_result"
    }
   ],
   "source": [
    "df.head()"
   ]
  },
  {
   "cell_type": "code",
   "execution_count": 46,
   "metadata": {},
   "outputs": [
    {
     "data": {
      "text/plain": [
       "sale_amount      0\n",
       "sale_id          0\n",
       "store_address    0\n",
       "store_city       0\n",
       "store_id         0\n",
       "store_state      0\n",
       "store_zipcode    0\n",
       "item_brand       0\n",
       "item_id          0\n",
       "item_name        0\n",
       "item_price       0\n",
       "item_upc12       0\n",
       "item_upc14       0\n",
       "month            0\n",
       "day_of_week      0\n",
       "sales_total      0\n",
       "diff(1)          1\n",
       "dtype: int64"
      ]
     },
     "execution_count": 46,
     "metadata": {},
     "output_type": "execute_result"
    }
   ],
   "source": [
    "df.isnull().sum()"
   ]
  },
  {
   "cell_type": "code",
   "execution_count": 28,
   "metadata": {},
   "outputs": [
    {
     "data": {
      "text/html": [
       "<div>\n",
       "<style scoped>\n",
       "    .dataframe tbody tr th:only-of-type {\n",
       "        vertical-align: middle;\n",
       "    }\n",
       "\n",
       "    .dataframe tbody tr th {\n",
       "        vertical-align: top;\n",
       "    }\n",
       "\n",
       "    .dataframe thead th {\n",
       "        text-align: right;\n",
       "    }\n",
       "</style>\n",
       "<table border=\"1\" class=\"dataframe\">\n",
       "  <thead>\n",
       "    <tr style=\"text-align: right;\">\n",
       "      <th></th>\n",
       "      <th>sales_total</th>\n",
       "    </tr>\n",
       "    <tr>\n",
       "      <th>sale_date</th>\n",
       "      <th></th>\n",
       "    </tr>\n",
       "  </thead>\n",
       "  <tbody>\n",
       "    <tr>\n",
       "      <th>2013-01-01 00:00:00+00:00</th>\n",
       "      <td>73844.01</td>\n",
       "    </tr>\n",
       "    <tr>\n",
       "      <th>2013-01-02 00:00:00+00:00</th>\n",
       "      <td>73570.58</td>\n",
       "    </tr>\n",
       "    <tr>\n",
       "      <th>2013-01-03 00:00:00+00:00</th>\n",
       "      <td>78169.48</td>\n",
       "    </tr>\n",
       "    <tr>\n",
       "      <th>2013-01-04 00:00:00+00:00</th>\n",
       "      <td>84467.73</td>\n",
       "    </tr>\n",
       "    <tr>\n",
       "      <th>2013-01-05 00:00:00+00:00</th>\n",
       "      <td>87621.85</td>\n",
       "    </tr>\n",
       "    <tr>\n",
       "      <th>...</th>\n",
       "      <td>...</td>\n",
       "    </tr>\n",
       "    <tr>\n",
       "      <th>2017-12-27 00:00:00+00:00</th>\n",
       "      <td>109151.15</td>\n",
       "    </tr>\n",
       "    <tr>\n",
       "      <th>2017-12-28 00:00:00+00:00</th>\n",
       "      <td>117377.49</td>\n",
       "    </tr>\n",
       "    <tr>\n",
       "      <th>2017-12-29 00:00:00+00:00</th>\n",
       "      <td>126541.84</td>\n",
       "    </tr>\n",
       "    <tr>\n",
       "      <th>2017-12-30 00:00:00+00:00</th>\n",
       "      <td>134903.07</td>\n",
       "    </tr>\n",
       "    <tr>\n",
       "      <th>2017-12-31 00:00:00+00:00</th>\n",
       "      <td>140905.74</td>\n",
       "    </tr>\n",
       "  </tbody>\n",
       "</table>\n",
       "<p>1826 rows × 1 columns</p>\n",
       "</div>"
      ],
      "text/plain": [
       "                           sales_total\n",
       "sale_date                             \n",
       "2013-01-01 00:00:00+00:00     73844.01\n",
       "2013-01-02 00:00:00+00:00     73570.58\n",
       "2013-01-03 00:00:00+00:00     78169.48\n",
       "2013-01-04 00:00:00+00:00     84467.73\n",
       "2013-01-05 00:00:00+00:00     87621.85\n",
       "...                                ...\n",
       "2017-12-27 00:00:00+00:00    109151.15\n",
       "2017-12-28 00:00:00+00:00    117377.49\n",
       "2017-12-29 00:00:00+00:00    126541.84\n",
       "2017-12-30 00:00:00+00:00    134903.07\n",
       "2017-12-31 00:00:00+00:00    140905.74\n",
       "\n",
       "[1826 rows x 1 columns]"
      ]
     },
     "execution_count": 28,
     "metadata": {},
     "output_type": "execute_result"
    }
   ],
   "source": [
    "sales_by_day = df.resample('d')[['sales_total']].sum()\n",
    "sales_by_day"
   ]
  },
  {
   "cell_type": "code",
   "execution_count": 29,
   "metadata": {},
   "outputs": [
    {
     "data": {
      "text/html": [
       "<div>\n",
       "<style scoped>\n",
       "    .dataframe tbody tr th:only-of-type {\n",
       "        vertical-align: middle;\n",
       "    }\n",
       "\n",
       "    .dataframe tbody tr th {\n",
       "        vertical-align: top;\n",
       "    }\n",
       "\n",
       "    .dataframe thead th {\n",
       "        text-align: right;\n",
       "    }\n",
       "</style>\n",
       "<table border=\"1\" class=\"dataframe\">\n",
       "  <thead>\n",
       "    <tr style=\"text-align: right;\">\n",
       "      <th></th>\n",
       "      <th>sales_total</th>\n",
       "      <th>diff</th>\n",
       "    </tr>\n",
       "    <tr>\n",
       "      <th>sale_date</th>\n",
       "      <th></th>\n",
       "      <th></th>\n",
       "    </tr>\n",
       "  </thead>\n",
       "  <tbody>\n",
       "    <tr>\n",
       "      <th>2013-01-01 00:00:00+00:00</th>\n",
       "      <td>73844.01</td>\n",
       "      <td>NaN</td>\n",
       "    </tr>\n",
       "    <tr>\n",
       "      <th>2013-01-02 00:00:00+00:00</th>\n",
       "      <td>73570.58</td>\n",
       "      <td>-273.43</td>\n",
       "    </tr>\n",
       "    <tr>\n",
       "      <th>2013-01-03 00:00:00+00:00</th>\n",
       "      <td>78169.48</td>\n",
       "      <td>4598.90</td>\n",
       "    </tr>\n",
       "    <tr>\n",
       "      <th>2013-01-04 00:00:00+00:00</th>\n",
       "      <td>84467.73</td>\n",
       "      <td>6298.25</td>\n",
       "    </tr>\n",
       "    <tr>\n",
       "      <th>2013-01-05 00:00:00+00:00</th>\n",
       "      <td>87621.85</td>\n",
       "      <td>3154.12</td>\n",
       "    </tr>\n",
       "    <tr>\n",
       "      <th>...</th>\n",
       "      <td>...</td>\n",
       "      <td>...</td>\n",
       "    </tr>\n",
       "    <tr>\n",
       "      <th>2017-12-27 00:00:00+00:00</th>\n",
       "      <td>109151.15</td>\n",
       "      <td>-2850.06</td>\n",
       "    </tr>\n",
       "    <tr>\n",
       "      <th>2017-12-28 00:00:00+00:00</th>\n",
       "      <td>117377.49</td>\n",
       "      <td>8226.34</td>\n",
       "    </tr>\n",
       "    <tr>\n",
       "      <th>2017-12-29 00:00:00+00:00</th>\n",
       "      <td>126541.84</td>\n",
       "      <td>9164.35</td>\n",
       "    </tr>\n",
       "    <tr>\n",
       "      <th>2017-12-30 00:00:00+00:00</th>\n",
       "      <td>134903.07</td>\n",
       "      <td>8361.23</td>\n",
       "    </tr>\n",
       "    <tr>\n",
       "      <th>2017-12-31 00:00:00+00:00</th>\n",
       "      <td>140905.74</td>\n",
       "      <td>6002.67</td>\n",
       "    </tr>\n",
       "  </tbody>\n",
       "</table>\n",
       "<p>1826 rows × 2 columns</p>\n",
       "</div>"
      ],
      "text/plain": [
       "                           sales_total     diff\n",
       "sale_date                                      \n",
       "2013-01-01 00:00:00+00:00     73844.01      NaN\n",
       "2013-01-02 00:00:00+00:00     73570.58  -273.43\n",
       "2013-01-03 00:00:00+00:00     78169.48  4598.90\n",
       "2013-01-04 00:00:00+00:00     84467.73  6298.25\n",
       "2013-01-05 00:00:00+00:00     87621.85  3154.12\n",
       "...                                ...      ...\n",
       "2017-12-27 00:00:00+00:00    109151.15 -2850.06\n",
       "2017-12-28 00:00:00+00:00    117377.49  8226.34\n",
       "2017-12-29 00:00:00+00:00    126541.84  9164.35\n",
       "2017-12-30 00:00:00+00:00    134903.07  8361.23\n",
       "2017-12-31 00:00:00+00:00    140905.74  6002.67\n",
       "\n",
       "[1826 rows x 2 columns]"
      ]
     },
     "execution_count": 29,
     "metadata": {},
     "output_type": "execute_result"
    }
   ],
   "source": [
    "sales_by_day['diff'] = sales_by_day.sales_total.diff()\n",
    "sales_by_day"
   ]
  },
  {
   "cell_type": "code",
   "execution_count": 37,
   "metadata": {},
   "outputs": [
    {
     "data": {
      "text/plain": [
       "sale_amount        int64\n",
       "sale_id            int64\n",
       "store_address     object\n",
       "store_city        object\n",
       "store_id           int64\n",
       "store_state       object\n",
       "store_zipcode      int64\n",
       "item_brand        object\n",
       "item_id            int64\n",
       "item_name         object\n",
       "item_price       float64\n",
       "item_upc12         int64\n",
       "item_upc14         int64\n",
       "month              int64\n",
       "day_of_week        int64\n",
       "sales_total      float64\n",
       "diff(1)          float64\n",
       "dtype: object"
      ]
     },
     "execution_count": 37,
     "metadata": {},
     "output_type": "execute_result"
    }
   ],
   "source": [
    "df.dtypes"
   ]
  },
  {
   "cell_type": "code",
   "execution_count": 47,
   "metadata": {},
   "outputs": [],
   "source": [
    "sales_by_day = df.resample('d')[['sales_total']].sum()\n",
    "sales_by_day['diff'] = sales_by_day.sales_total.diff()"
   ]
  },
  {
   "cell_type": "code",
   "execution_count": 48,
   "metadata": {},
   "outputs": [
    {
     "data": {
      "text/html": [
       "<div>\n",
       "<style scoped>\n",
       "    .dataframe tbody tr th:only-of-type {\n",
       "        vertical-align: middle;\n",
       "    }\n",
       "\n",
       "    .dataframe tbody tr th {\n",
       "        vertical-align: top;\n",
       "    }\n",
       "\n",
       "    .dataframe thead th {\n",
       "        text-align: right;\n",
       "    }\n",
       "</style>\n",
       "<table border=\"1\" class=\"dataframe\">\n",
       "  <thead>\n",
       "    <tr style=\"text-align: right;\">\n",
       "      <th></th>\n",
       "      <th>sales_total</th>\n",
       "      <th>diff</th>\n",
       "    </tr>\n",
       "    <tr>\n",
       "      <th>sale_date</th>\n",
       "      <th></th>\n",
       "      <th></th>\n",
       "    </tr>\n",
       "  </thead>\n",
       "  <tbody>\n",
       "    <tr>\n",
       "      <th>2013-01-01 00:00:00+00:00</th>\n",
       "      <td>73844.01</td>\n",
       "      <td>NaN</td>\n",
       "    </tr>\n",
       "    <tr>\n",
       "      <th>2013-01-02 00:00:00+00:00</th>\n",
       "      <td>73570.58</td>\n",
       "      <td>-273.43</td>\n",
       "    </tr>\n",
       "    <tr>\n",
       "      <th>2013-01-03 00:00:00+00:00</th>\n",
       "      <td>78169.48</td>\n",
       "      <td>4598.90</td>\n",
       "    </tr>\n",
       "    <tr>\n",
       "      <th>2013-01-04 00:00:00+00:00</th>\n",
       "      <td>84467.73</td>\n",
       "      <td>6298.25</td>\n",
       "    </tr>\n",
       "    <tr>\n",
       "      <th>2013-01-05 00:00:00+00:00</th>\n",
       "      <td>87621.85</td>\n",
       "      <td>3154.12</td>\n",
       "    </tr>\n",
       "    <tr>\n",
       "      <th>...</th>\n",
       "      <td>...</td>\n",
       "      <td>...</td>\n",
       "    </tr>\n",
       "    <tr>\n",
       "      <th>2017-12-27 00:00:00+00:00</th>\n",
       "      <td>109151.15</td>\n",
       "      <td>-2850.06</td>\n",
       "    </tr>\n",
       "    <tr>\n",
       "      <th>2017-12-28 00:00:00+00:00</th>\n",
       "      <td>117377.49</td>\n",
       "      <td>8226.34</td>\n",
       "    </tr>\n",
       "    <tr>\n",
       "      <th>2017-12-29 00:00:00+00:00</th>\n",
       "      <td>126541.84</td>\n",
       "      <td>9164.35</td>\n",
       "    </tr>\n",
       "    <tr>\n",
       "      <th>2017-12-30 00:00:00+00:00</th>\n",
       "      <td>134903.07</td>\n",
       "      <td>8361.23</td>\n",
       "    </tr>\n",
       "    <tr>\n",
       "      <th>2017-12-31 00:00:00+00:00</th>\n",
       "      <td>140905.74</td>\n",
       "      <td>6002.67</td>\n",
       "    </tr>\n",
       "  </tbody>\n",
       "</table>\n",
       "<p>1826 rows × 2 columns</p>\n",
       "</div>"
      ],
      "text/plain": [
       "                           sales_total     diff\n",
       "sale_date                                      \n",
       "2013-01-01 00:00:00+00:00     73844.01      NaN\n",
       "2013-01-02 00:00:00+00:00     73570.58  -273.43\n",
       "2013-01-03 00:00:00+00:00     78169.48  4598.90\n",
       "2013-01-04 00:00:00+00:00     84467.73  6298.25\n",
       "2013-01-05 00:00:00+00:00     87621.85  3154.12\n",
       "...                                ...      ...\n",
       "2017-12-27 00:00:00+00:00    109151.15 -2850.06\n",
       "2017-12-28 00:00:00+00:00    117377.49  8226.34\n",
       "2017-12-29 00:00:00+00:00    126541.84  9164.35\n",
       "2017-12-30 00:00:00+00:00    134903.07  8361.23\n",
       "2017-12-31 00:00:00+00:00    140905.74  6002.67\n",
       "\n",
       "[1826 rows x 2 columns]"
      ]
     },
     "execution_count": 48,
     "metadata": {},
     "output_type": "execute_result"
    }
   ],
   "source": [
    "sales_by_day"
   ]
  },
  {
   "cell_type": "code",
   "execution_count": 53,
   "metadata": {},
   "outputs": [],
   "source": [
    "def prepare_sale():\n",
    "    df = acquire.get_store_data()\n",
    "    df['month'] = df.index.month\n",
    "    df['day_of_week'] = df.index.weekday\n",
    "    df['total_sales'] = df.sale_amount * df.item_price\n",
    "    sales_sum = df.resample(\"D\")[['total_sales']].sum()\n",
    "    sales_sum['sales_differences'] = sales_sum['total_sales'].diff()\n",
    "    return df, sales_sum"
   ]
  },
  {
   "cell_type": "code",
   "execution_count": 54,
   "metadata": {},
   "outputs": [],
   "source": [
    "df, sales_diff_df = prepare_sale()"
   ]
  },
  {
   "cell_type": "code",
   "execution_count": 51,
   "metadata": {},
   "outputs": [
    {
     "data": {
      "text/html": [
       "<div>\n",
       "<style scoped>\n",
       "    .dataframe tbody tr th:only-of-type {\n",
       "        vertical-align: middle;\n",
       "    }\n",
       "\n",
       "    .dataframe tbody tr th {\n",
       "        vertical-align: top;\n",
       "    }\n",
       "\n",
       "    .dataframe thead th {\n",
       "        text-align: right;\n",
       "    }\n",
       "</style>\n",
       "<table border=\"1\" class=\"dataframe\">\n",
       "  <thead>\n",
       "    <tr style=\"text-align: right;\">\n",
       "      <th></th>\n",
       "      <th>sale_amount</th>\n",
       "      <th>sale_id</th>\n",
       "      <th>store_address</th>\n",
       "      <th>store_city</th>\n",
       "      <th>store_id</th>\n",
       "      <th>store_state</th>\n",
       "      <th>store_zipcode</th>\n",
       "      <th>item_brand</th>\n",
       "      <th>item_id</th>\n",
       "      <th>item_name</th>\n",
       "      <th>item_price</th>\n",
       "      <th>item_upc12</th>\n",
       "      <th>item_upc14</th>\n",
       "      <th>month</th>\n",
       "      <th>day_of_week</th>\n",
       "      <th>total_sales</th>\n",
       "    </tr>\n",
       "    <tr>\n",
       "      <th>sale_date</th>\n",
       "      <th></th>\n",
       "      <th></th>\n",
       "      <th></th>\n",
       "      <th></th>\n",
       "      <th></th>\n",
       "      <th></th>\n",
       "      <th></th>\n",
       "      <th></th>\n",
       "      <th></th>\n",
       "      <th></th>\n",
       "      <th></th>\n",
       "      <th></th>\n",
       "      <th></th>\n",
       "      <th></th>\n",
       "      <th></th>\n",
       "      <th></th>\n",
       "    </tr>\n",
       "  </thead>\n",
       "  <tbody>\n",
       "    <tr>\n",
       "      <th>2013-01-01 00:00:00+00:00</th>\n",
       "      <td>13.0</td>\n",
       "      <td>1</td>\n",
       "      <td>12125 Alamo Ranch Pkwy</td>\n",
       "      <td>San Antonio</td>\n",
       "      <td>1</td>\n",
       "      <td>TX</td>\n",
       "      <td>78253</td>\n",
       "      <td>Riceland</td>\n",
       "      <td>1</td>\n",
       "      <td>Riceland American Jazmine Rice</td>\n",
       "      <td>0.84</td>\n",
       "      <td>35200264013</td>\n",
       "      <td>35200264013</td>\n",
       "      <td>1</td>\n",
       "      <td>1</td>\n",
       "      <td>10.92</td>\n",
       "    </tr>\n",
       "    <tr>\n",
       "      <th>2013-01-02 00:00:00+00:00</th>\n",
       "      <td>11.0</td>\n",
       "      <td>2</td>\n",
       "      <td>12125 Alamo Ranch Pkwy</td>\n",
       "      <td>San Antonio</td>\n",
       "      <td>1</td>\n",
       "      <td>TX</td>\n",
       "      <td>78253</td>\n",
       "      <td>Riceland</td>\n",
       "      <td>1</td>\n",
       "      <td>Riceland American Jazmine Rice</td>\n",
       "      <td>0.84</td>\n",
       "      <td>35200264013</td>\n",
       "      <td>35200264013</td>\n",
       "      <td>1</td>\n",
       "      <td>2</td>\n",
       "      <td>9.24</td>\n",
       "    </tr>\n",
       "    <tr>\n",
       "      <th>2013-01-03 00:00:00+00:00</th>\n",
       "      <td>14.0</td>\n",
       "      <td>3</td>\n",
       "      <td>12125 Alamo Ranch Pkwy</td>\n",
       "      <td>San Antonio</td>\n",
       "      <td>1</td>\n",
       "      <td>TX</td>\n",
       "      <td>78253</td>\n",
       "      <td>Riceland</td>\n",
       "      <td>1</td>\n",
       "      <td>Riceland American Jazmine Rice</td>\n",
       "      <td>0.84</td>\n",
       "      <td>35200264013</td>\n",
       "      <td>35200264013</td>\n",
       "      <td>1</td>\n",
       "      <td>3</td>\n",
       "      <td>11.76</td>\n",
       "    </tr>\n",
       "    <tr>\n",
       "      <th>2013-01-04 00:00:00+00:00</th>\n",
       "      <td>13.0</td>\n",
       "      <td>4</td>\n",
       "      <td>12125 Alamo Ranch Pkwy</td>\n",
       "      <td>San Antonio</td>\n",
       "      <td>1</td>\n",
       "      <td>TX</td>\n",
       "      <td>78253</td>\n",
       "      <td>Riceland</td>\n",
       "      <td>1</td>\n",
       "      <td>Riceland American Jazmine Rice</td>\n",
       "      <td>0.84</td>\n",
       "      <td>35200264013</td>\n",
       "      <td>35200264013</td>\n",
       "      <td>1</td>\n",
       "      <td>4</td>\n",
       "      <td>10.92</td>\n",
       "    </tr>\n",
       "    <tr>\n",
       "      <th>2013-01-05 00:00:00+00:00</th>\n",
       "      <td>10.0</td>\n",
       "      <td>5</td>\n",
       "      <td>12125 Alamo Ranch Pkwy</td>\n",
       "      <td>San Antonio</td>\n",
       "      <td>1</td>\n",
       "      <td>TX</td>\n",
       "      <td>78253</td>\n",
       "      <td>Riceland</td>\n",
       "      <td>1</td>\n",
       "      <td>Riceland American Jazmine Rice</td>\n",
       "      <td>0.84</td>\n",
       "      <td>35200264013</td>\n",
       "      <td>35200264013</td>\n",
       "      <td>1</td>\n",
       "      <td>5</td>\n",
       "      <td>8.40</td>\n",
       "    </tr>\n",
       "  </tbody>\n",
       "</table>\n",
       "</div>"
      ],
      "text/plain": [
       "                           sale_amount  sale_id           store_address  \\\n",
       "sale_date                                                                 \n",
       "2013-01-01 00:00:00+00:00         13.0        1  12125 Alamo Ranch Pkwy   \n",
       "2013-01-02 00:00:00+00:00         11.0        2  12125 Alamo Ranch Pkwy   \n",
       "2013-01-03 00:00:00+00:00         14.0        3  12125 Alamo Ranch Pkwy   \n",
       "2013-01-04 00:00:00+00:00         13.0        4  12125 Alamo Ranch Pkwy   \n",
       "2013-01-05 00:00:00+00:00         10.0        5  12125 Alamo Ranch Pkwy   \n",
       "\n",
       "                            store_city  store_id store_state  store_zipcode  \\\n",
       "sale_date                                                                     \n",
       "2013-01-01 00:00:00+00:00  San Antonio         1          TX          78253   \n",
       "2013-01-02 00:00:00+00:00  San Antonio         1          TX          78253   \n",
       "2013-01-03 00:00:00+00:00  San Antonio         1          TX          78253   \n",
       "2013-01-04 00:00:00+00:00  San Antonio         1          TX          78253   \n",
       "2013-01-05 00:00:00+00:00  San Antonio         1          TX          78253   \n",
       "\n",
       "                          item_brand  item_id                       item_name  \\\n",
       "sale_date                                                                       \n",
       "2013-01-01 00:00:00+00:00   Riceland        1  Riceland American Jazmine Rice   \n",
       "2013-01-02 00:00:00+00:00   Riceland        1  Riceland American Jazmine Rice   \n",
       "2013-01-03 00:00:00+00:00   Riceland        1  Riceland American Jazmine Rice   \n",
       "2013-01-04 00:00:00+00:00   Riceland        1  Riceland American Jazmine Rice   \n",
       "2013-01-05 00:00:00+00:00   Riceland        1  Riceland American Jazmine Rice   \n",
       "\n",
       "                           item_price   item_upc12   item_upc14  month  \\\n",
       "sale_date                                                                \n",
       "2013-01-01 00:00:00+00:00        0.84  35200264013  35200264013      1   \n",
       "2013-01-02 00:00:00+00:00        0.84  35200264013  35200264013      1   \n",
       "2013-01-03 00:00:00+00:00        0.84  35200264013  35200264013      1   \n",
       "2013-01-04 00:00:00+00:00        0.84  35200264013  35200264013      1   \n",
       "2013-01-05 00:00:00+00:00        0.84  35200264013  35200264013      1   \n",
       "\n",
       "                           day_of_week  total_sales  \n",
       "sale_date                                            \n",
       "2013-01-01 00:00:00+00:00            1        10.92  \n",
       "2013-01-02 00:00:00+00:00            2         9.24  \n",
       "2013-01-03 00:00:00+00:00            3        11.76  \n",
       "2013-01-04 00:00:00+00:00            4        10.92  \n",
       "2013-01-05 00:00:00+00:00            5         8.40  "
      ]
     },
     "execution_count": 51,
     "metadata": {},
     "output_type": "execute_result"
    }
   ],
   "source": [
    "df.head()"
   ]
  },
  {
   "cell_type": "code",
   "execution_count": 55,
   "metadata": {},
   "outputs": [
    {
     "data": {
      "text/html": [
       "<div>\n",
       "<style scoped>\n",
       "    .dataframe tbody tr th:only-of-type {\n",
       "        vertical-align: middle;\n",
       "    }\n",
       "\n",
       "    .dataframe tbody tr th {\n",
       "        vertical-align: top;\n",
       "    }\n",
       "\n",
       "    .dataframe thead th {\n",
       "        text-align: right;\n",
       "    }\n",
       "</style>\n",
       "<table border=\"1\" class=\"dataframe\">\n",
       "  <thead>\n",
       "    <tr style=\"text-align: right;\">\n",
       "      <th></th>\n",
       "      <th>total_sales</th>\n",
       "      <th>sales_differences</th>\n",
       "    </tr>\n",
       "    <tr>\n",
       "      <th>sale_date</th>\n",
       "      <th></th>\n",
       "      <th></th>\n",
       "    </tr>\n",
       "  </thead>\n",
       "  <tbody>\n",
       "    <tr>\n",
       "      <th>2013-01-01 00:00:00+00:00</th>\n",
       "      <td>73844.01</td>\n",
       "      <td>NaN</td>\n",
       "    </tr>\n",
       "    <tr>\n",
       "      <th>2013-01-02 00:00:00+00:00</th>\n",
       "      <td>73570.58</td>\n",
       "      <td>-273.43</td>\n",
       "    </tr>\n",
       "    <tr>\n",
       "      <th>2013-01-03 00:00:00+00:00</th>\n",
       "      <td>78169.48</td>\n",
       "      <td>4598.90</td>\n",
       "    </tr>\n",
       "    <tr>\n",
       "      <th>2013-01-04 00:00:00+00:00</th>\n",
       "      <td>84467.73</td>\n",
       "      <td>6298.25</td>\n",
       "    </tr>\n",
       "    <tr>\n",
       "      <th>2013-01-05 00:00:00+00:00</th>\n",
       "      <td>87621.85</td>\n",
       "      <td>3154.12</td>\n",
       "    </tr>\n",
       "  </tbody>\n",
       "</table>\n",
       "</div>"
      ],
      "text/plain": [
       "                           total_sales  sales_differences\n",
       "sale_date                                                \n",
       "2013-01-01 00:00:00+00:00     73844.01                NaN\n",
       "2013-01-02 00:00:00+00:00     73570.58            -273.43\n",
       "2013-01-03 00:00:00+00:00     78169.48            4598.90\n",
       "2013-01-04 00:00:00+00:00     84467.73            6298.25\n",
       "2013-01-05 00:00:00+00:00     87621.85            3154.12"
      ]
     },
     "execution_count": 55,
     "metadata": {},
     "output_type": "execute_result"
    }
   ],
   "source": [
    "sales_diff_df.head()"
   ]
  },
  {
   "cell_type": "code",
   "execution_count": null,
   "metadata": {},
   "outputs": [],
   "source": []
  }
 ],
 "metadata": {
  "kernelspec": {
   "display_name": "Python 3",
   "language": "python",
   "name": "python3"
  },
  "language_info": {
   "codemirror_mode": {
    "name": "ipython",
    "version": 3
   },
   "file_extension": ".py",
   "mimetype": "text/x-python",
   "name": "python",
   "nbconvert_exporter": "python",
   "pygments_lexer": "ipython3",
   "version": "3.7.4"
  }
 },
 "nbformat": 4,
 "nbformat_minor": 2
}
